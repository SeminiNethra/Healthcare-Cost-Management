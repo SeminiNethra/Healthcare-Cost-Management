{
  "cells": [
    {
      "cell_type": "markdown",
      "metadata": {
        "id": "view-in-github",
        "colab_type": "text"
      },
      "source": [
        "<a href=\"https://colab.research.google.com/github/SeminiNethra/Healthcare-Cost-Management/blob/main/Model_Training.ipynb\" target=\"_parent\"><img src=\"https://colab.research.google.com/assets/colab-badge.svg\" alt=\"Open In Colab\"/></a>"
      ]
    },
    {
      "cell_type": "code",
      "execution_count": 44,
      "metadata": {
        "colab": {
          "base_uri": "https://localhost:8080/"
        },
        "id": "s1KB2Zx42qxr",
        "outputId": "67dd446c-d0f9-4346-e1cc-8e7169197345"
      },
      "outputs": [
        {
          "output_type": "stream",
          "name": "stdout",
          "text": [
            "Shape after loading: (98, 17)\n",
            "Unique values in target before mapping: ['Under 10, 000 ' '50, 000 - 100, 000' '10, 000 - 50,000' 'Under 10, 019'\n",
            " 'Under 10, 020']\n",
            "Unique values in target after mapping: [ 5000. 75000. 30000.    nan]\n",
            "Shape after dropping missing target: (96, 17)\n",
            "Categorical columns used: ['Sex', 'City You Live In', 'Monthly Income Level', 'Do You Have Any Chronic Disease', 'Do you have any allergies?', 'Do you consume alcoholic beverages?', 'Do you smoke or use tobacco products?', 'what type of hospital do you typically spend on medication per month?']\n",
            "Shape after encoding: (96, 42)\n",
            "Final DataFrame shape before split: (96, 37)\n",
            "Shape of x before split: (96, 36)\n",
            "Shape of y before split: (96,)\n",
            "Train/test split shapes: (72, 36) (24, 36) (72,) (24,)\n",
            "Training Linear Regression...\n",
            "Training Random Forest...\n",
            "Training Gradient Boosting...\n",
            "Training XGBoost...\n",
            "\n",
            "Model Performance:\n",
            "               Model  R2 Score  Mean Absolute Error  Mean Squared Error  \\\n",
            "1      Random Forest  0.457770          5581.250000        2.217636e+08   \n",
            "2  Gradient Boosting  0.373929          6089.963122        2.560534e+08   \n",
            "3            XGBoost  0.362300          6255.399841        2.608094e+08   \n",
            "0  Linear Regression  0.171013         10627.626916        3.390428e+08   \n",
            "\n",
            "   Root Mean Squared Error  \n",
            "1             14891.730787  \n",
            "2             16001.670054  \n",
            "3             16149.595605  \n",
            "0             18413.116184  \n",
            "\n",
            "Best model (Random Forest) saved as model_random_forest.pkl\n"
          ]
        }
      ],
      "source": [
        "import pandas as pd\n",
        "import numpy as np\n",
        "import joblib\n",
        "from sklearn.model_selection import train_test_split\n",
        "from sklearn.linear_model import LinearRegression\n",
        "from sklearn.ensemble import GradientBoostingRegressor, RandomForestRegressor\n",
        "from sklearn.metrics import mean_absolute_error, mean_squared_error, r2_score\n",
        "import xgboost as xgb\n",
        "\n",
        "# Load the datasetcsvt\n",
        "df = pd.read_csv('/content/Final Year Project Dataset - Sheet1 (1).csv')\n",
        "print(\"Shape after loading:\", df.shape)\n",
        "\n",
        "# Clean and convert the target column to numeric\n",
        "target_col = 'What is the average halthcare bill amount?'\n",
        "\n",
        "def bill_to_num(x):\n",
        "    if pd.isna(x) or x == 'Nothing':\n",
        "        return np.nan\n",
        "    x = str(x).replace(',', '').replace(' ', '').lower()\n",
        "    if 'under10000' in x:\n",
        "        return 5000\n",
        "    elif '10000-50000' in x:\n",
        "        return 30000\n",
        "    elif '50000-100000' in x:\n",
        "        return 75000\n",
        "    elif 'morethan100000' in x:\n",
        "        return 150000\n",
        "    try:\n",
        "        return float(x)\n",
        "    except:\n",
        "        return np.nan\n",
        "\n",
        "print(\"Unique values in target before mapping:\", df[target_col].unique())\n",
        "df[target_col] = df[target_col].apply(bill_to_num)\n",
        "print(\"Unique values in target after mapping:\", df[target_col].unique())\n",
        "\n",
        "# Drop rows where target is missing\n",
        "df = df.dropna(subset=[target_col])\n",
        "print(\"Shape after dropping missing target:\", df.shape)\n",
        "\n",
        "# Define categorical columns (use only those that exist)\n",
        "cat_cols = [\n",
        "    'Sex',\n",
        "    'City You Live In',\n",
        "    'Monthly Income Level',\n",
        "    'Do You Have Any Chronic Disease',\n",
        "    'Do you have any allergies?',\n",
        "    'Do you consume alcoholic beverages?',\n",
        "    'Do you smoke or use tobacco products?',\n",
        "    'what type of hospital do you typically spend on medication per month?'\n",
        "]\n",
        "cat_cols = [col for col in cat_cols if col in df.columns]\n",
        "print(\"Categorical columns used:\", cat_cols)\n",
        "\n",
        "# Replace 'Nothing' with np.nan throughout the entire DataFrame\n",
        "df = df.replace('Nothing', np.nan)\n",
        "\n",
        "# Fill missing values in categorical columns\n",
        "for col in cat_cols:\n",
        "    df[col] = df[col].fillna('Missing')\n",
        "\n",
        "# One-hot encode categorical columns\n",
        "df = pd.get_dummies(df, columns=cat_cols, drop_first=True)\n",
        "print(\"Shape after encoding:\", df.shape)\n",
        "\n",
        "# Drop unnecessary columns if present\n",
        "drop_cols = [\n",
        "    'Name',\n",
        "    'If Yes, please specify',\n",
        "    'Have you undergone any prior surgeries or procedures?',\n",
        "    'If yes, please specify',\n",
        "    'Do you have any other medical history that we should be aware of?'\n",
        "]\n",
        "for col in drop_cols:\n",
        "    if col in df.columns:\n",
        "        df = df.drop(col, axis=1)\n",
        "\n",
        "# Convert all remaining string columns to numeric\n",
        "for col in df.columns:\n",
        "    if df[col].dtype == object:\n",
        "        df[col] = pd.to_numeric(df[col], errors='coerce')\n",
        "\n",
        "# Fill any remaining missing values with 0\n",
        "df = df.fillna(0)\n",
        "\n",
        "# Check if df is empty before proceeding\n",
        "print(\"Final DataFrame shape before split:\", df.shape)\n",
        "if df.shape[0] == 0:\n",
        "    raise ValueError(\"No data left after cleaning! Check the cleaning steps and your raw data.\")\n",
        "\n",
        "# Prepare features and target\n",
        "x = df.drop([target_col], axis=1)\n",
        "y = df[target_col]\n",
        "\n",
        "print(\"Shape of x before split:\", x.shape)\n",
        "print(\"Shape of y before split:\", y.shape)\n",
        "\n",
        "# Now split\n",
        "x_train, x_test, y_train, y_test = train_test_split(x, y, test_size=0.25, random_state=42)\n",
        "print(\"Train/test split shapes:\", x_train.shape, x_test.shape, y_train.shape, y_test.shape)\n",
        "\n",
        "# Model comparison\n",
        "models = {\n",
        "    'Linear Regression': LinearRegression(),\n",
        "    'Random Forest': RandomForestRegressor(n_estimators=100, random_state=42),\n",
        "    'Gradient Boosting': GradientBoostingRegressor(n_estimators=100, random_state=42),\n",
        "    # Fixed: Changed verbosity from 10 to 0 (within valid range of 0-3)\n",
        "    'XGBoost': xgb.XGBRegressor(n_estimators=100, random_state=42, verbosity=0)\n",
        "}\n",
        "\n",
        "results = []\n",
        "\n",
        "for name, model in models.items():\n",
        "    print(f\"Training {name}...\")\n",
        "    model.fit(x_train, y_train)\n",
        "    preds = model.predict(x_test)\n",
        "    r2 = r2_score(y_test, preds)\n",
        "    mae = mean_absolute_error(y_test, preds)\n",
        "    mse = mean_squared_error(y_test, preds)\n",
        "    rmse = np.sqrt(mse)\n",
        "    results.append({\n",
        "        'Model': name,\n",
        "        'R2 Score': r2,\n",
        "        'Mean Absolute Error': mae,\n",
        "        'Mean Squared Error': mse,\n",
        "        'Root Mean Squared Error': rmse\n",
        "    })\n",
        "\n",
        "results_df = pd.DataFrame(results).sort_values(by='R2 Score', ascending=False)\n",
        "print(\"\\nModel Performance:\")\n",
        "print(results_df)\n",
        "\n",
        "# Save the best model\n",
        "best_model_name = results_df.iloc[0]['Model']\n",
        "best_model = models[best_model_name]\n",
        "joblib.dump(best_model, f'model_{best_model_name.replace(\" \", \"_\").lower()}.pkl')\n",
        "joblib.dump(x_train.columns, 'train_features.pkl')\n",
        "print(f\"\\nBest model ({best_model_name}) saved as model_{best_model_name.replace(' ', '_').lower()}.pkl\")\n",
        "\n"
      ]
    },
    {
      "cell_type": "markdown",
      "metadata": {
        "id": "1W9azYt_g9ML"
      },
      "source": [
        "**Dashboard**"
      ]
    },
    {
      "cell_type": "code",
      "execution_count": 45,
      "metadata": {
        "colab": {
          "base_uri": "https://localhost:8080/"
        },
        "id": "T5GJ3uLnhFOl",
        "outputId": "ce0462dc-fe31-4cce-f776-0403f2d88647"
      },
      "outputs": [
        {
          "output_type": "stream",
          "name": "stdout",
          "text": [
            "Overwriting app.py\n"
          ]
        }
      ],
      "source": [
        "%%writefile app.py\n",
        "import streamlit as st\n",
        "import pandas as pd\n",
        "import numpy as np\n",
        "import joblib\n",
        "\n",
        "# Load the trained model and feature names used during training\n",
        "model = joblib.load('model_random_forest.pkl')\n",
        "train_features = joblib.load('train_features.pkl')\n",
        "\n",
        "st.title('Healthcare Cost Prediction')\n",
        "st.write(\"Enter patient details to predict estimated healthcare cost.\")\n",
        "\n",
        "# User input\n",
        "age = st.slider(\"Age\", 0, 100, 30)\n",
        "gender = st.selectbox(\"Gender\", [\"Male\", \"Female\"])\n",
        "bmi = st.slider(\"BMI\", 10.0, 50.0, 22.0)\n",
        "city = st.selectbox(\"City You Live In\", [\n",
        "    \"Biyagama\", \"Dehiwala\", \"Kalmunai\", \"Vavuniya\", \"Galle\", \"Trincomalee\",\n",
        "    \"Batticalo\", \"Jaffna\", \"Matale\", \"Katunayaka\", \"Dambulla\", \"Kolonnawa\",\n",
        "    \"Anuradhapura\", \"Rathnapura\", \"Moratuwa\", \"Sri Jayawardanapura Kotte\",\n",
        "    \"Chilaw\", \"Colombo\", \"Homagama\", \"Kandy\", \"Negombo\", \"Other\"\n",
        "])\n",
        "income = st.selectbox(\"Monthly Income Level\", [\n",
        "    \"Less than 25,000\", \"25,000-50,000\", \"50,000-100,000\",\n",
        "    \"More than 100,000\"])\n",
        "chronic_disease = st.selectbox(\"Do You Have Any Chronic Disease\", [\"Yes\", \"No\"])\n",
        "allergies = st.selectbox(\"Do you have any allergies?\", [\"Yes\", \"No\"])\n",
        "alcohol = st.selectbox(\"Do you consume alcoholic beverages?\", [\"Yes\", \"No\"])\n",
        "tobacco = st.selectbox(\"Do you smoke or use tobacco products?\", [\"Yes\", \"No\"])\n",
        "hospital_type = st.selectbox(\"What type of hospital do you typically spend on medication per month?\",\n",
        "                           [\"Government\", \"Private\", \"Both\"])\n",
        "\n",
        "# Initialize a dictionary with zeros for all expected columns\n",
        "input_dict = {col: 0 for col in train_features}\n",
        "\n",
        "# Set numerical features (if they exist in train_features)\n",
        "if \"Age\" in train_features:\n",
        "    input_dict[\"Age\"] = age\n",
        "if \"BMI\" in train_features:\n",
        "    input_dict[\"BMI\"] = bmi\n",
        "\n",
        "# Set one-hot encoded categorical variables by matching exact column names\n",
        "# Sex/Gender\n",
        "sex_col = f\"Sex_{gender}\"\n",
        "if sex_col in train_features:\n",
        "    input_dict[sex_col] = 1\n",
        "\n",
        "# City\n",
        "city_col = f\"City You Live In_{city}\"\n",
        "if city_col in train_features:\n",
        "    input_dict[city_col] = 1\n",
        "\n",
        "# Income\n",
        "income_col = f\"Monthly Income Level_{income}\"\n",
        "if income_col in train_features:\n",
        "    input_dict[income_col] = 1\n",
        "\n",
        "# Chronic Disease\n",
        "disease_col = f\"Do You Have Any Chronic Disease_{chronic_disease}\"\n",
        "if disease_col in train_features:\n",
        "    input_dict[disease_col] = 1\n",
        "\n",
        "# Allergies\n",
        "allergies_col = f\"Do you have any allergies?_{allergies}\"\n",
        "if allergies_col in train_features:\n",
        "    input_dict[allergies_col] = 1\n",
        "\n",
        "# Alcohol\n",
        "alcohol_col = f\"Do you consume alcoholic beverages?_{alcohol}\"\n",
        "if alcohol_col in train_features:\n",
        "    input_dict[alcohol_col] = 1\n",
        "\n",
        "# Tobacco\n",
        "tobacco_col = f\"Do you smoke or use tobacco products?_{tobacco}\"\n",
        "if tobacco_col in train_features:\n",
        "    input_dict[tobacco_col] = 1\n",
        "\n",
        "# Hospital Type\n",
        "hospital_col = f\"what type of hospital do you typically spend on medication per month?_{hospital_type}\"\n",
        "if hospital_col in train_features:\n",
        "    input_dict[hospital_col] = 1\n",
        "\n",
        "# Create DataFrame with exact training features and order\n",
        "input_df = pd.DataFrame([input_dict])[train_features]\n",
        "\n",
        "if st.button(\"Predict\"):\n",
        "    try:\n",
        "        prediction = model.predict(input_df)[0]\n",
        "        st.success(f\"💰 Estimated Healthcare Cost: LKR {int(prediction):,}\")\n",
        "    except Exception as e:\n",
        "        st.error(f\"Prediction error: {str(e)}\")\n",
        "        st.info(\"Please check that all feature names match exactly with training data.\")\n"
      ]
    },
    {
      "cell_type": "markdown",
      "metadata": {
        "id": "ItGVF5TBJcfU"
      },
      "source": [
        "Display the dashboard"
      ]
    },
    {
      "cell_type": "code",
      "execution_count": 46,
      "metadata": {
        "colab": {
          "base_uri": "https://localhost:8080/"
        },
        "id": "zlfsroAh3n_R",
        "outputId": "d1f42ef5-1927-4339-b160-aea63942a7ee"
      },
      "outputs": [
        {
          "output_type": "stream",
          "name": "stdout",
          "text": [
            "\u001b[1G\u001b[0K⠙\u001b[1G\u001b[0K⠹\u001b[1G\u001b[0K⠸\u001b[1G\u001b[0K⠼\u001b[1G\u001b[0K⠴\u001b[1G\u001b[0K⠦\u001b[1G\u001b[0K⠧\u001b[1G\u001b[0K⠇\u001b[1G\u001b[0K⠏\u001b[1G\u001b[0K⠋\u001b[1G\u001b[0K⠙\u001b[1G\u001b[0K⠹\u001b[1G\u001b[0K⠸\u001b[1G\u001b[0K⠼\u001b[1G\u001b[0K⠴\u001b[1G\u001b[0K⠦\u001b[1G\u001b[0K⠧\u001b[1G\u001b[0K⠇\u001b[1G\u001b[0K⠏\u001b[1G\u001b[0K⠋\u001b[1G\u001b[0K⠙\u001b[1G\u001b[0K\n",
            "changed 22 packages in 2s\n",
            "\u001b[1G\u001b[0K⠙\u001b[1G\u001b[0K\n",
            "\u001b[1G\u001b[0K⠙\u001b[1G\u001b[0K3 packages are looking for funding\n",
            "\u001b[1G\u001b[0K⠙\u001b[1G\u001b[0K  run `npm fund` for details\n",
            "\u001b[1G\u001b[0K⠙\u001b[1G\u001b[0K"
          ]
        }
      ],
      "source": [
        "!pip install -q streamlit\n",
        "!npm install -g localtunnel\n",
        "\n",
        "\n",
        "\n"
      ]
    },
    {
      "cell_type": "code",
      "execution_count": 47,
      "metadata": {
        "id": "sbrERm5k4eDi"
      },
      "outputs": [],
      "source": [
        "!wget -q -o - ipv4.icanhazip.com"
      ]
    },
    {
      "cell_type": "code",
      "source": [
        "!streamlit run app.py & npx localtunnel --port 8501\n"
      ],
      "metadata": {
        "colab": {
          "base_uri": "https://localhost:8080/"
        },
        "id": "8h8DseDWz_29",
        "outputId": "7bf0b92c-f554-4444-eba4-fe292e41efb1"
      },
      "execution_count": null,
      "outputs": [
        {
          "output_type": "stream",
          "name": "stdout",
          "text": [
            "\n",
            "Collecting usage statistics. To deactivate, set browser.gatherUsageStats to false.\n",
            "\u001b[0m\n",
            "\u001b[1G\u001b[0K⠙\u001b[1G\u001b[0K⠹\u001b[1G\u001b[0K⠸\u001b[1G\u001b[0K⠼\u001b[1G\u001b[0K⠴\u001b[1G\u001b[0K⠦\u001b[1G\u001b[0K⠧\u001b[1G\u001b[0K⠇\u001b[0m\n",
            "\u001b[34m\u001b[1m  You can now view your Streamlit app in your browser.\u001b[0m\n",
            "\u001b[0m\n",
            "\u001b[34m  Local URL: \u001b[0m\u001b[1mhttp://localhost:8501\u001b[0m\n",
            "\u001b[34m  Network URL: \u001b[0m\u001b[1mhttp://172.28.0.12:8501\u001b[0m\n",
            "\u001b[34m  External URL: \u001b[0m\u001b[1mhttp://34.125.90.224:8501\u001b[0m\n",
            "\u001b[0m\n",
            "\u001b[1G\u001b[0K⠏\u001b[1G\u001b[0K⠋\u001b[1G\u001b[0K⠙\u001b[1G\u001b[0Kyour url is: https://hot-candles-raise.loca.lt\n"
          ]
        }
      ]
    }
  ],
  "metadata": {
    "colab": {
      "provenance": [],
      "authorship_tag": "ABX9TyNaAqEHwRxAZOOqMhjeTUBN",
      "include_colab_link": true
    },
    "kernelspec": {
      "display_name": "Python 3",
      "name": "python3"
    },
    "language_info": {
      "name": "python"
    }
  },
  "nbformat": 4,
  "nbformat_minor": 0
}